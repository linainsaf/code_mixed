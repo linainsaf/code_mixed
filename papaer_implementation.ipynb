{
 "cells": [
  {
   "cell_type": "markdown",
   "id": "58e64f82",
   "metadata": {
    "id": "58e64f82"
   },
   "source": [
    "# Import libraries"
   ]
  },
  {
   "cell_type": "code",
   "execution_count": 13,
   "id": "98ac53e4",
   "metadata": {
    "colab": {
     "base_uri": "https://localhost:8080/"
    },
    "id": "98ac53e4",
    "outputId": "177e4cfd-66c9-41d1-c504-7fbc903d9ed0"
   },
   "outputs": [
    {
     "name": "stderr",
     "output_type": "stream",
     "text": [
      "[nltk_data] Downloading package punkt to /Users/linainsaf/nltk_data...\n",
      "[nltk_data]   Package punkt is already up-to-date!\n",
      "[nltk_data] Downloading package wordnet to\n",
      "[nltk_data]     /Users/linainsaf/nltk_data...\n",
      "[nltk_data]   Package wordnet is already up-to-date!\n",
      "[nltk_data] Downloading package omw-1.4 to\n",
      "[nltk_data]     /Users/linainsaf/nltk_data...\n",
      "[nltk_data]   Package omw-1.4 is already up-to-date!\n"
     ]
    },
    {
     "data": {
      "text/plain": [
       "True"
      ]
     },
     "execution_count": 13,
     "metadata": {},
     "output_type": "execute_result"
    }
   ],
   "source": [
    "import pandas as pd\n",
    "from matplotlib import pyplot as plt\n",
    "import seaborn as sns\n",
    "import warnings\n",
    "import nltk\n",
    "from textblob import TextBlob\n",
    "from nltk.tokenize import word_tokenize\n",
    "import numpy as np\n",
    "import pickle\n",
    "\n",
    "from sklearn.pipeline import Pipeline\n",
    "from sklearn.feature_extraction.text import CountVectorizer, TfidfVectorizer\n",
    "from sklearn.linear_model import SGDClassifier, LogisticRegression\n",
    "from sklearn.naive_bayes import MultinomialNB\n",
    "from sklearn.svm import SVC, LinearSVC\n",
    "from sklearn.ensemble import VotingClassifier\n",
    "\n",
    "from sklearn.model_selection import train_test_split, StratifiedKFold, cross_val_score, GridSearchCV\n",
    "from sklearn.metrics import classification_report, f1_score, accuracy_score, confusion_matrix\n",
    "\n",
    "warnings.filterwarnings(\"ignore\")\n",
    "nltk.download('punkt')\n",
    "nltk.download('wordnet')\n",
    "nltk.download('omw-1.4')"
   ]
  },
  {
   "cell_type": "markdown",
   "id": "8c3c13ef",
   "metadata": {
    "id": "8c3c13ef"
   },
   "source": [
    "# Import data and few analysis"
   ]
  },
  {
   "cell_type": "code",
   "execution_count": 16,
   "id": "da94d2ce",
   "metadata": {
    "id": "da94d2ce"
   },
   "outputs": [],
   "source": [
    "# Import dataset\n",
    "data = pd.read_csv(\"data/Hindi_english_dataset.csv\")"
   ]
  },
  {
   "cell_type": "code",
   "execution_count": 17,
   "id": "ee038bf5",
   "metadata": {
    "colab": {
     "base_uri": "https://localhost:8080/",
     "height": 224
    },
    "id": "ee038bf5",
    "outputId": "fcf67434-0ed4-4dd1-d910-7e44af29916f"
   },
   "outputs": [
    {
     "name": "stdout",
     "output_type": "stream",
     "text": [
      "6357\n"
     ]
    },
    {
     "data": {
      "text/html": [
       "<div>\n",
       "<style scoped>\n",
       "    .dataframe tbody tr th:only-of-type {\n",
       "        vertical-align: middle;\n",
       "    }\n",
       "\n",
       "    .dataframe tbody tr th {\n",
       "        vertical-align: top;\n",
       "    }\n",
       "\n",
       "    .dataframe thead th {\n",
       "        text-align: right;\n",
       "    }\n",
       "</style>\n",
       "<table border=\"1\" class=\"dataframe\">\n",
       "  <thead>\n",
       "    <tr style=\"text-align: right;\">\n",
       "      <th></th>\n",
       "      <th>Text</th>\n",
       "      <th>Sentiment</th>\n",
       "    </tr>\n",
       "  </thead>\n",
       "  <tbody>\n",
       "    <tr>\n",
       "      <th>0</th>\n",
       "      <td>Jab tak Kohli captain se aur Shastri coach se ...</td>\n",
       "      <td>0</td>\n",
       "    </tr>\n",
       "    <tr>\n",
       "      <th>1</th>\n",
       "      <td>Really I  agree to you viru paaji ab Ravi shas...</td>\n",
       "      <td>1</td>\n",
       "    </tr>\n",
       "    <tr>\n",
       "      <th>2</th>\n",
       "      <td>aur  ke players ki mentality aur techniques s...</td>\n",
       "      <td>1</td>\n",
       "    </tr>\n",
       "    <tr>\n",
       "      <th>3</th>\n",
       "      <td>Kewal Ravi shashtri ko bhagao Indian team phir...</td>\n",
       "      <td>0</td>\n",
       "    </tr>\n",
       "    <tr>\n",
       "      <th>4</th>\n",
       "      <td>Jab RohitSharma  Run Bana Raha Tha To Ye Godi ...</td>\n",
       "      <td>0</td>\n",
       "    </tr>\n",
       "  </tbody>\n",
       "</table>\n",
       "</div>"
      ],
      "text/plain": [
       "                                                Text  Sentiment\n",
       "0  Jab tak Kohli captain se aur Shastri coach se ...          0\n",
       "1  Really I  agree to you viru paaji ab Ravi shas...          1\n",
       "2   aur  ke players ki mentality aur techniques s...          1\n",
       "3  Kewal Ravi shashtri ko bhagao Indian team phir...          0\n",
       "4  Jab RohitSharma  Run Bana Raha Tha To Ye Godi ...          0"
      ]
     },
     "execution_count": 17,
     "metadata": {},
     "output_type": "execute_result"
    }
   ],
   "source": [
    "# print length of dataset and data\n",
    "print(len(data))\n",
    "data.head()"
   ]
  },
  {
   "cell_type": "code",
   "execution_count": 18,
   "id": "2033738e",
   "metadata": {
    "colab": {
     "base_uri": "https://localhost:8080/",
     "height": 280
    },
    "id": "2033738e",
    "outputId": "454a7128-e01b-4435-b46d-f571dbc35a78"
   },
   "outputs": [
    {
     "data": {
      "image/png": "[encoded data removed]",
      "text/plain": [
       "<Figure size 640x480 with 1 Axes>"
      ]
     },
     "metadata": {},
     "output_type": "display_data"
    }
   ],
   "source": [
    "# Plot distribution of the classes\n",
    "ax = sns.countplot(x=data[\"Sentiment\"].map({0:\"Negative\" ,1:\"Neutral\", 2:\"Positive\"}))\n",
    "\n",
    "for p in ax.patches:\n",
    "    percentage = '{:.1f}%'.format(100 * p.get_height()/ float(len(data)))\n",
    "    x = p.get_x() + p.get_width()/2\n",
    "    y = p.get_height()+.05\n",
    "    ax.annotate(percentage, (x, y), ha='center')\n",
    "plt.show()"
   ]
  },
  {
   "cell_type": "markdown",
   "id": "25a4c288",
   "metadata": {
    "id": "25a4c288"
   },
   "source": [
    "# Data preprocessing"
   ]
  },
  {
   "cell_type": "code",
   "execution_count": 19,
   "id": "rajReHNTAJJI",
   "metadata": {
    "id": "rajReHNTAJJI"
   },
   "outputs": [],
   "source": [
    "# Preprocessing function\n",
    "def preprocess(text, vocabulary):\n",
    "\n",
    "    # Lower text and remove special characters \n",
    "    output = text.lower()\n",
    "    output = output.replace('[^\\w\\s]', '')\n",
    "\n",
    "    # Tokenization\n",
    "    output_tok = word_tokenize(output)\n",
    "\n",
    "    # Lemmatization\n",
    "    output_tok =  [vocabulary[tok] if tok in vocabulary else tok for tok in output_tok]\n",
    "\n",
    "    # Join\n",
    "    out = \" \".join(output_tok)\n",
    "\n",
    "    return output"
   ]
  },
  {
   "cell_type": "code",
   "execution_count": 20,
   "id": "68dcbda4",
   "metadata": {
    "id": "68dcbda4"
   },
   "outputs": [],
   "source": [
    "# Import stopword list \n",
    "stopwords = list(pd.read_csv(\"data/Stopwords.csv\")['Vocabulary'])\n",
    "\n",
    "# Import lemmatization vocabulary\n",
    "vocabulary = pd.read_csv(\"data/Generalised_spelling.csv\").drop_duplicates(subset=[\"Vocabulary\"], keep='first')\n",
    "voc = dict(zip(vocabulary['Vocabulary'].str.lower(), vocabulary['Generalised Spelling']. str.lower()))"
   ]
  },
  {
   "cell_type": "code",
   "execution_count": 21,
   "id": "ce123ea1",
   "metadata": {
    "colab": {
     "base_uri": "https://localhost:8080/",
     "height": 112
    },
    "id": "ce123ea1",
    "outputId": "8ab294d9-37e6-4dc3-ad85-9aad2dfb67b1"
   },
   "outputs": [
    {
     "data": {
      "text/html": [
       "<div>\n",
       "<style scoped>\n",
       "    .dataframe tbody tr th:only-of-type {\n",
       "        vertical-align: middle;\n",
       "    }\n",
       "\n",
       "    .dataframe tbody tr th {\n",
       "        vertical-align: top;\n",
       "    }\n",
       "\n",
       "    .dataframe thead th {\n",
       "        text-align: right;\n",
       "    }\n",
       "</style>\n",
       "<table border=\"1\" class=\"dataframe\">\n",
       "  <thead>\n",
       "    <tr style=\"text-align: right;\">\n",
       "      <th></th>\n",
       "      <th>Text</th>\n",
       "      <th>Sentiment</th>\n",
       "      <th>preprocessed</th>\n",
       "    </tr>\n",
       "  </thead>\n",
       "  <tbody>\n",
       "    <tr>\n",
       "      <th>0</th>\n",
       "      <td>Jab tak Kohli captain se aur Shastri coach se ...</td>\n",
       "      <td>0</td>\n",
       "      <td>jab tak kohli captain se aur shastri coach se ...</td>\n",
       "    </tr>\n",
       "    <tr>\n",
       "      <th>1</th>\n",
       "      <td>Really I  agree to you viru paaji ab Ravi shas...</td>\n",
       "      <td>1</td>\n",
       "      <td>really i  agree to you viru paaji ab ravi shas...</td>\n",
       "    </tr>\n",
       "  </tbody>\n",
       "</table>\n",
       "</div>"
      ],
      "text/plain": [
       "                                                Text  Sentiment  \\\n",
       "0  Jab tak Kohli captain se aur Shastri coach se ...          0   \n",
       "1  Really I  agree to you viru paaji ab Ravi shas...          1   \n",
       "\n",
       "                                        preprocessed  \n",
       "0  jab tak kohli captain se aur shastri coach se ...  \n",
       "1  really i  agree to you viru paaji ab ravi shas...  "
      ]
     },
     "execution_count": 21,
     "metadata": {},
     "output_type": "execute_result"
    }
   ],
   "source": [
    "# Preprocess text\n",
    "data['preprocessed']  = [preprocess(text, voc) for text in data[\"Text\"] ]\n",
    "data.head(2)"
   ]
  },
  {
   "cell_type": "code",
   "execution_count": 22,
   "id": "285adbe3",
   "metadata": {
    "id": "285adbe3"
   },
   "outputs": [],
   "source": [
    "# To obtain words that decide the polarity of our sentences.\n",
    "def lem(message):\n",
    "    words = TextBlob(message).words\n",
    "    return [word.lemma for word in words]"
   ]
  },
  {
   "cell_type": "markdown",
   "id": "UqUd8nymMikF",
   "metadata": {
    "id": "UqUd8nymMikF"
   },
   "source": [
    "# Models"
   ]
  },
  {
   "cell_type": "markdown",
   "id": "LZyLaoAbOB0P",
   "metadata": {
    "id": "LZyLaoAbOB0P"
   },
   "source": [
    "## Ensemble based approach"
   ]
  },
  {
   "cell_type": "markdown",
   "id": "ZeeawNHSMnR9",
   "metadata": {
    "id": "ZeeawNHSMnR9"
   },
   "source": [
    "#### Train-Test Split"
   ]
  },
  {
   "cell_type": "code",
   "execution_count": 100,
   "id": "46dd6418",
   "metadata": {
    "id": "46dd6418"
   },
   "outputs": [],
   "source": [
    "X_train, X_test, Y_train, Y_test = train_test_split(data['preprocessed'], data['Sentiment'], test_size=0.15, random_state=123)"
   ]
  },
  {
   "cell_type": "markdown",
   "id": "E3xev0UxsZoh",
   "metadata": {
    "id": "E3xev0UxsZoh"
   },
   "source": [
    "#### TF-IDF vectorization"
   ]
  },
  {
   "cell_type": "code",
   "execution_count": 101,
   "id": "F5MbA4S_myE-",
   "metadata": {
    "id": "F5MbA4S_myE-"
   },
   "outputs": [],
   "source": [
    "vectorizer = TfidfVectorizer(analyzer=lem, ngram_range = (1,3), stop_words = stopwords)\n",
    "X_train = vectorizer.fit_transform(X_train)\n",
    "X_test = vectorizer.transform(X_test)"
   ]
  },
  {
   "cell_type": "code",
   "execution_count": 110,
   "id": "9L0mqNuBS_Cx",
   "metadata": {
    "id": "9L0mqNuBS_Cx"
   },
   "outputs": [],
   "source": [
    "pickle.dump(vectorizer, open(\"tokenizers/ensemble_vectorizer.pkl\", 'wb'))"
   ]
  },
  {
   "cell_type": "markdown",
   "id": "ElC3Cpgosict",
   "metadata": {
    "id": "ElC3Cpgosict"
   },
   "source": [
    "Model building"
   ]
  },
  {
   "cell_type": "code",
   "execution_count": 102,
   "id": "wldLPIFBNngR",
   "metadata": {
    "id": "wldLPIFBNngR"
   },
   "outputs": [],
   "source": [
    "MNB = MultinomialNB()                                                                                       # MNB model creation\n",
    "SVM= SVC(probability=True)                                                                              # SVM model creation\n",
    "SGD= SGDClassifier(max_iter=1000)                                                                 # SGD model creation\n",
    "LR = LogisticRegression(multi_class='multinomial', solver='newton-cg')        # LR model creation\n",
    "\n",
    "# Ensambling the models  with a soft voting classifier \n",
    "clf = VotingClassifier(estimators=[('SVC', SVM), ('MNB', MNB),\n",
    "                                                         ('LR', LR), ('SGD', SGD)], voting='soft')\n",
    "\n",
    "params = {'SVC__C': [1, 10], 'SVC__gamma': [0.001], 'SVC__kernel': ['rbf'],\n",
    "          'MNB__alpha': [1e-2],\n",
    "          'LR__penalty' : ['l2'],                                # Parameters to tune\n",
    "          'SGD__loss': [\"log\", \"modified_huber\"],\"SGD__alpha\" : [0.01],\n",
    "          'SGD__penalty' : [\"l1\"]}\n",
    "\n",
    "\"\"\" \n",
    "# More parameters to explore using gridsearch \n",
    "params = {'SVC__C': [1, 10, 100], 'SVC__gamma': [0.001], 'SVC__kernel': ['rbf', 'linear'],\n",
    "          'MNB__alpha': [1, 1e-1, 1e-2],\n",
    "          'LR__penalty' : ['l2'],'LR__C' : np.logspace(-4, 4, 4),\n",
    "          'SGD__loss': [\"log\", \"modified_huber\"],\"SGD__alpha\" : [0.001, 0.01],\n",
    "          'SGD__penalty' : [\"l2\", \"l1\"]}\n",
    "\"\"\"\n",
    "#  K-fold cross validation for better training\n",
    "skf = StratifiedKFold(n_splits=3)\n",
    "skf.get_n_splits(X_train, Y_train)\n",
    "\n",
    "# GridSearch on the Voting classifier\n",
    "model1 = GridSearchCV(clf, params, refit=True, n_jobs=-1, scoring='accuracy', cv=skf)"
   ]
  },
  {
   "cell_type": "markdown",
   "id": "YS9M6bxmsnVj",
   "metadata": {
    "id": "YS9M6bxmsnVj"
   },
   "source": [
    "#### Model training"
   ]
  },
  {
   "cell_type": "code",
   "execution_count": 103,
   "id": "LrSXmroummjz",
   "metadata": {
    "colab": {
     "base_uri": "https://localhost:8080/"
    },
    "id": "LrSXmroummjz",
    "outputId": "bc524398-a391-48e6-ba62-58f3c9301300"
   },
   "outputs": [
    {
     "data": {
      "text/plain": [
       "GridSearchCV(cv=StratifiedKFold(n_splits=3, random_state=None, shuffle=False),\n",
       "             estimator=VotingClassifier(estimators=[('SVC',\n",
       "                                                     SVC(probability=True)),\n",
       "                                                    ('MNB', MultinomialNB()),\n",
       "                                                    ('LR',\n",
       "                                                     LogisticRegression(multi_class='multinomial',\n",
       "                                                                        solver='newton-cg')),\n",
       "                                                    ('SGD', SGDClassifier())],\n",
       "                                        voting='soft'),\n",
       "             n_jobs=-1,\n",
       "             param_grid={'LR__penalty': ['l2'], 'MNB__alpha': [0.01],\n",
       "                         'SGD__alpha': [0.01],\n",
       "                         'SGD__loss': ['log', 'modified_huber'],\n",
       "                         'SGD__penalty': ['l1'], 'SVC__C': [1, 10],\n",
       "                         'SVC__gamma': [0.001], 'SVC__kernel': ['rbf']},\n",
       "             scoring='accuracy')"
      ]
     },
     "execution_count": 103,
     "metadata": {},
     "output_type": "execute_result"
    }
   ],
   "source": [
    "model1.fit(X_train, Y_train)"
   ]
  },
  {
   "cell_type": "markdown",
   "id": "hpndDIY6spll",
   "metadata": {
    "id": "hpndDIY6spll"
   },
   "source": [
    "#### Model evaluation"
   ]
  },
  {
   "cell_type": "code",
   "execution_count": 104,
   "id": "mfJeom3MKuTX",
   "metadata": {
    "colab": {
     "base_uri": "https://localhost:8080/"
    },
    "id": "mfJeom3MKuTX",
    "outputId": "c3c17307-f852-4afc-fe31-b3d1b4babbd0"
   },
   "outputs": [
    {
     "data": {
      "text/plain": [
       "0.6163522012578616"
      ]
     },
     "execution_count": 104,
     "metadata": {},
     "output_type": "execute_result"
    }
   ],
   "source": [
    "y_pred = model1.predict(X_test)\n",
    "accuracy_score(Y_test, y_pred)"
   ]
  },
  {
   "cell_type": "code",
   "execution_count": 107,
   "id": "RwmKiCHUJkMF",
   "metadata": {
    "colab": {
     "base_uri": "https://localhost:8080/"
    },
    "id": "RwmKiCHUJkMF",
    "outputId": "3d6ffe0f-855c-4991-d149-83177e77c964"
   },
   "outputs": [
    {
     "name": "stdout",
     "output_type": "stream",
     "text": [
      "              precision    recall  f1-score   support\n",
      "\n",
      "           0       0.58      0.54      0.55       256\n",
      "           1       0.60      0.72      0.66       438\n",
      "           2       0.70      0.52      0.60       260\n",
      "\n",
      "    accuracy                           0.62       954\n",
      "   macro avg       0.63      0.59      0.60       954\n",
      "weighted avg       0.62      0.62      0.61       954\n",
      "\n"
     ]
    }
   ],
   "source": [
    "print(classification_report(Y_test, y_pred))"
   ]
  },
  {
   "cell_type": "code",
   "execution_count": 108,
   "id": "hIJ0bZ31F5ra",
   "metadata": {
    "colab": {
     "base_uri": "https://localhost:8080/",
     "height": 513
    },
    "id": "hIJ0bZ31F5ra",
    "outputId": "186eec64-c476-4332-ee9b-abb154f219bf"
   },
   "outputs": [
    {
     "data": {
      "image/png": "[encoded data removed]",
      "text/plain": [
       "<Figure size 576x576 with 1 Axes>"
      ]
     },
     "metadata": {
      "needs_background": "light"
     },
     "output_type": "display_data"
    }
   ],
   "source": [
    "classnames = ['Negative', 'Neutral', 'Positive']\n",
    "plt.figure(figsize=(8,8))\n",
    "plt.title('Confusion matrix')\n",
    "sns.heatmap(confusion_matrix(Y_test, y_pred), cbar=False, xticklabels=classnames, yticklabels=classnames, fmt='d', annot=True)\n",
    "plt.xlabel('Predicted')\n",
    "plt.ylabel('Actual')\n",
    "plt.show()"
   ]
  },
  {
   "cell_type": "code",
   "execution_count": 111,
   "id": "s1yh7nKZSoJW",
   "metadata": {
    "id": "s1yh7nKZSoJW"
   },
   "outputs": [],
   "source": [
    "pickle.dump(model1, open(\"models/ensemble_model.pkl\", 'wb'))"
   ]
  },
  {
   "cell_type": "markdown",
   "id": "dfde8496",
   "metadata": {
    "id": "dfde8496"
   },
   "source": [
    "## Bidirectional LSTM based approach"
   ]
  },
  {
   "cell_type": "code",
   "execution_count": null,
   "id": "e84407a9",
   "metadata": {
    "id": "e84407a9"
   },
   "outputs": [],
   "source": [
    "from keras.preprocessing.text import Tokenizer\n",
    "from keras.preprocessing.sequence import pad_sequences\n",
    "from keras.models import Sequential\n",
    "from keras.layers import Bidirectional, Dense, Embedding, LSTM, SpatialDropout1D\n",
    "from keras.utils.np_utils import to_categorical\n",
    "from keras.callbacks import EarlyStopping"
   ]
  },
  {
   "cell_type": "markdown",
   "id": "QW-AH1m9sLn_",
   "metadata": {
    "id": "QW-AH1m9sLn_"
   },
   "source": [
    "#### Data preprocessing and tokenization"
   ]
  },
  {
   "cell_type": "code",
   "execution_count": 127,
   "id": "fmsMQo97rzoN",
   "metadata": {
    "colab": {
     "base_uri": "https://localhost:8080/"
    },
    "id": "fmsMQo97rzoN",
    "outputId": "5892d053-374c-4732-870e-eb3bf9766e76"
   },
   "outputs": [
    {
     "name": "stdout",
     "output_type": "stream",
     "text": [
      "Found 14437 unique tokens.\n"
     ]
    }
   ],
   "source": [
    "# The maximum number of words to be used. (most frequent)\n",
    "MAX_NB_WORDS = 5000\n",
    "\n",
    "# Max number of words in each \n",
    "MAX_SEQUENCE_LENGTH = 80\n",
    "\n",
    "# Embedding layer dimension\n",
    "EMBEDDING_DIM = 32\n",
    "\n",
    "# Create the tokenization and fit on our data\n",
    "tokenizer = Tokenizer(num_words=MAX_NB_WORDS, filters='!\"#$%&()*+,-./:;<=>?@[\\]^_`{|}~', lower=True)\n",
    "tokenizer.fit_on_texts(data['Text'].values)\n",
    "word_index = tokenizer.word_index\n",
    "print('Found %s unique tokens.' % len(word_index))"
   ]
  },
  {
   "cell_type": "code",
   "execution_count": 153,
   "id": "itzJXLFkjoUl",
   "metadata": {
    "id": "itzJXLFkjoUl"
   },
   "outputs": [],
   "source": [
    "pickle.dump(tokenizer, open(\"tokenizers/tokenizer_lstm.pkl\", 'wb'))"
   ]
  },
  {
   "cell_type": "code",
   "execution_count": 132,
   "id": "4f4e704e",
   "metadata": {
    "colab": {
     "base_uri": "https://localhost:8080/"
    },
    "id": "4f4e704e",
    "outputId": "71f417b9-34e6-4857-efd9-4e25063bf220"
   },
   "outputs": [
    {
     "name": "stdout",
     "output_type": "stream",
     "text": [
      "Shape of data tensor: (6357, 120)\n"
     ]
    }
   ],
   "source": [
    "# transform our data padded tensors \n",
    "X = tokenizer.texts_to_sequences(data['preprocessed'].values)\n",
    "X = pad_sequences(X, maxlen=MAX_SEQUENCE_LENGTH)\n",
    "print('Shape of data tensor:', X.shape)"
   ]
  },
  {
   "cell_type": "code",
   "execution_count": 133,
   "id": "961628d9",
   "metadata": {
    "colab": {
     "base_uri": "https://localhost:8080/"
    },
    "id": "961628d9",
    "outputId": "3afa6b8f-b5fe-46c2-dbfc-fa515c93b0bc"
   },
   "outputs": [
    {
     "name": "stdout",
     "output_type": "stream",
     "text": [
      "Shape of label tensor: (6357, 3)\n"
     ]
    }
   ],
   "source": [
    "# transform labels to tensors\n",
    "Y = pd.get_dummies(data['Sentiment']).values\n",
    "print('Shape of label tensor:', Y.shape)"
   ]
  },
  {
   "cell_type": "markdown",
   "id": "YUxScthTr-U9",
   "metadata": {
    "id": "YUxScthTr-U9"
   },
   "source": [
    "#### Train-Test Split"
   ]
  },
  {
   "cell_type": "code",
   "execution_count": 139,
   "id": "8ccafc9e",
   "metadata": {
    "colab": {
     "base_uri": "https://localhost:8080/"
    },
    "id": "8ccafc9e",
    "outputId": "9a1e7fd2-af8d-4aa3-dfe4-00f2758e7b0b"
   },
   "outputs": [
    {
     "name": "stdout",
     "output_type": "stream",
     "text": [
      "(5721, 120) (5721, 3)\n",
      "(636, 120) (636, 3)\n"
     ]
    }
   ],
   "source": [
    "X_train, X_test, Y_train, Y_test = train_test_split(X,Y, test_size = 0.1, random_state = 123)\n",
    "print(X_train.shape,Y_train.shape)\n",
    "print(X_test.shape,Y_test.shape)"
   ]
  },
  {
   "cell_type": "markdown",
   "id": "oG1uecocr_oS",
   "metadata": {
    "id": "oG1uecocr_oS"
   },
   "source": [
    "#### Model building"
   ]
  },
  {
   "cell_type": "code",
   "execution_count": 140,
   "id": "gkX6DlTbMOYA",
   "metadata": {
    "id": "gkX6DlTbMOYA"
   },
   "outputs": [],
   "source": [
    "# helper function for stopping training when the accuracy decreases\n",
    "callback = EarlyStopping(monitor='loss', patience=3, restore_best_weights=True)"
   ]
  },
  {
   "cell_type": "code",
   "execution_count": 141,
   "id": "741ed59a",
   "metadata": {
    "colab": {
     "base_uri": "https://localhost:8080/"
    },
    "id": "741ed59a",
    "outputId": "e76e104b-8621-4d4c-f838-64b825684789"
   },
   "outputs": [
    {
     "name": "stdout",
     "output_type": "stream",
     "text": [
      "Model: \"sequential_3\"\n",
      "_________________________________________________________________\n",
      " Layer (type)                Output Shape              Param #   \n",
      "=================================================================\n",
      " embedding_3 (Embedding)     (None, 120, 42)           252000    \n",
      "                                                                 \n",
      " spatial_dropout1d_3 (Spatia  (None, 120, 42)          0         \n",
      " lDropout1D)                                                     \n",
      "                                                                 \n",
      " bidirectional_9 (Bidirectio  (None, 120, 256)         175104    \n",
      " nal)                                                            \n",
      "                                                                 \n",
      " bidirectional_10 (Bidirecti  (None, 120, 128)         164352    \n",
      " onal)                                                           \n",
      "                                                                 \n",
      " bidirectional_11 (Bidirecti  (None, 64)               41216     \n",
      " onal)                                                           \n",
      "                                                                 \n",
      " dense_6 (Dense)             (None, 16)                1040      \n",
      "                                                                 \n",
      " dense_7 (Dense)             (None, 3)                 51        \n",
      "                                                                 \n",
      "=================================================================\n",
      "Total params: 633,763\n",
      "Trainable params: 633,763\n",
      "Non-trainable params: 0\n",
      "_________________________________________________________________\n",
      "None\n"
     ]
    }
   ],
   "source": [
    "model2 = Sequential()\n",
    "model2.add(Embedding(MAX_NB_WORDS, EMBEDDING_DIM, input_length=X.shape[1]))\n",
    "model2.add(SpatialDropout1D(0.2))\n",
    "\n",
    "model2.add(Bidirectional(LSTM(128,  dropout=0.2, recurrent_dropout=0.2,return_sequences=True)))\n",
    "model2.add(Bidirectional(LSTM(64,  dropout=0.2, recurrent_dropout=0.2,return_sequences=True)))\n",
    "model2.add(Bidirectional(LSTM(32,  dropout=0.2, recurrent_dropout=0.2)))\n",
    "\n",
    "model2.add(Dense(16, activation='relu'))\n",
    "model2.add(Dense(3, activation='softmax'))\n",
    "\n",
    "model2.compile(loss='categorical_crossentropy', optimizer='adam', metrics=['accuracy'])\n",
    "print(model2.summary())"
   ]
  },
  {
   "cell_type": "markdown",
   "id": "UY7Riki7sCm9",
   "metadata": {
    "id": "UY7Riki7sCm9"
   },
   "source": [
    "#### Model training"
   ]
  },
  {
   "cell_type": "code",
   "execution_count": 146,
   "id": "MUv0FuTbeGeF",
   "metadata": {
    "colab": {
     "base_uri": "https://localhost:8080/"
    },
    "id": "MUv0FuTbeGeF",
    "outputId": "05075104-f420-4703-a7b1-f4aced0d2f75"
   },
   "outputs": [
    {
     "name": "stdout",
     "output_type": "stream",
     "text": [
      "Epoch 1/10\n",
      "81/81 [==============================] - 100s 1s/step - loss: 1.0554 - accuracy: 0.4520 - val_loss: 1.0162 - val_accuracy: 0.5044\n",
      "Epoch 2/10\n",
      "81/81 [==============================] - 82s 1s/step - loss: 0.9494 - accuracy: 0.5305 - val_loss: 0.9902 - val_accuracy: 0.4660\n",
      "Epoch 3/10\n",
      "81/81 [==============================] - 82s 1s/step - loss: 0.7615 - accuracy: 0.6638 - val_loss: 0.9775 - val_accuracy: 0.5777\n",
      "Epoch 4/10\n",
      "81/81 [==============================] - 80s 992ms/step - loss: 0.5906 - accuracy: 0.7617 - val_loss: 1.0203 - val_accuracy: 0.5742\n",
      "Epoch 5/10\n",
      "81/81 [==============================] - 82s 1s/step - loss: 0.4405 - accuracy: 0.8372 - val_loss: 1.1047 - val_accuracy: 0.5846\n",
      "Epoch 6/10\n",
      "81/81 [==============================] - 82s 1s/step - loss: 0.3478 - accuracy: 0.8800 - val_loss: 1.2148 - val_accuracy: 0.5899\n",
      "Epoch 7/10\n",
      "81/81 [==============================] - 79s 981ms/step - loss: 0.3008 - accuracy: 0.8955 - val_loss: 1.2055 - val_accuracy: 0.5951\n",
      "Epoch 8/10\n",
      "81/81 [==============================] - 81s 1s/step - loss: 0.2458 - accuracy: 0.9134 - val_loss: 1.3968 - val_accuracy: 0.6056\n",
      "Epoch 9/10\n",
      "81/81 [==============================] - 80s 992ms/step - loss: 0.2066 - accuracy: 0.9324 - val_loss: 1.4394 - val_accuracy: 0.5951\n",
      "Epoch 10/10\n",
      "81/81 [==============================] - 83s 1s/step - loss: 0.1674 - accuracy: 0.9439 - val_loss: 1.6458 - val_accuracy: 0.5899\n"
     ]
    }
   ],
   "source": [
    "epochs = 10\n",
    "batch_size = 64\n",
    "history = model2.fit(X_train, Y_train, epochs=epochs, batch_size=batch_size,validation_split=0.1, callbacks=[callback])"
   ]
  },
  {
   "cell_type": "markdown",
   "id": "3fg_tIIGsFzM",
   "metadata": {
    "id": "3fg_tIIGsFzM"
   },
   "source": [
    "#### Model evaluation"
   ]
  },
  {
   "cell_type": "code",
   "execution_count": 144,
   "id": "95e9cb5f",
   "metadata": {
    "colab": {
     "base_uri": "https://localhost:8080/"
    },
    "id": "95e9cb5f",
    "outputId": "f6c92300-8fa7-4585-a47c-3b8e405cde02"
   },
   "outputs": [
    {
     "name": "stdout",
     "output_type": "stream",
     "text": [
      "20/20 [==============================] - 4s 204ms/step - loss: 1.7724 - accuracy: 0.5818\n",
      "Test set\n",
      "  Loss: 1.772\n",
      "  Accuracy: 58.176 %\n"
     ]
    }
   ],
   "source": [
    "accr = model2.evaluate(X_test,Y_test)\n",
    "print('Test set\\n  Loss: {:0.3f}\\n  Accuracy: {:0.3f} %'.format(accr[0],accr[1]*100))"
   ]
  },
  {
   "cell_type": "code",
   "execution_count": 147,
   "id": "ee4ac013",
   "metadata": {
    "id": "ee4ac013"
   },
   "outputs": [],
   "source": [
    "y_pred = model2.predict(X_test, verbose=0)"
   ]
  },
  {
   "cell_type": "code",
   "execution_count": 149,
   "id": "de12cad3",
   "metadata": {
    "colab": {
     "base_uri": "https://localhost:8080/"
    },
    "id": "de12cad3",
    "outputId": "a44dd4a4-3875-46ad-8994-511762e20710"
   },
   "outputs": [
    {
     "name": "stdout",
     "output_type": "stream",
     "text": [
      "              precision    recall  f1-score   support\n",
      "\n",
      "           0       0.55      0.51      0.53       177\n",
      "           1       0.61      0.62      0.61       289\n",
      "           2       0.52      0.54      0.53       170\n",
      "\n",
      "    accuracy                           0.57       636\n",
      "   macro avg       0.56      0.56      0.56       636\n",
      "weighted avg       0.57      0.57      0.57       636\n",
      "\n"
     ]
    }
   ],
   "source": [
    "print(classification_report(Y_test.argmax(axis=1), y_pred.argmax(axis=1)))"
   ]
  },
  {
   "cell_type": "code",
   "execution_count": 151,
   "id": "cfcb5184",
   "metadata": {
    "colab": {
     "base_uri": "https://localhost:8080/",
     "height": 513
    },
    "id": "cfcb5184",
    "outputId": "ca3c5c4b-8ada-4619-e7a8-bba025a512ff"
   },
   "outputs": [
    {
     "data": {
      "image/png": "[encoded data removed]",
      "text/plain": [
       "<Figure size 576x576 with 1 Axes>"
      ]
     },
     "metadata": {
      "needs_background": "light"
     },
     "output_type": "display_data"
    }
   ],
   "source": [
    "classnames = ['Negative', 'Neutral', 'Positive']\n",
    "plt.figure(figsize=(8,8))\n",
    "plt.title('Confusion matrix')\n",
    "sns.heatmap(confusion_matrix(Y_test.argmax(axis=1), y_pred.argmax(axis=1)), cbar=False, xticklabels=classnames, yticklabels=classnames, fmt='d', annot=True)\n",
    "plt.xlabel('Predicted')\n",
    "plt.ylabel('Actual')\n",
    "plt.show()"
   ]
  },
  {
   "cell_type": "code",
   "execution_count": 154,
   "id": "b9c35d6c",
   "metadata": {
    "colab": {
     "base_uri": "https://localhost:8080/"
    },
    "id": "b9c35d6c",
    "outputId": "338dfcba-65da-42cd-cdc8-5f4691e42abd"
   },
   "outputs": [
    {
     "name": "stderr",
     "output_type": "stream",
     "text": [
      "WARNING:absl:<keras.layers.recurrent.LSTMCell object at 0x7feeb97fffd0> has the same name 'LSTMCell' as a built-in Keras object. Consider renaming <class 'keras.layers.recurrent.LSTMCell'> to avoid naming conflicts when loading with `tf.keras.models.load_model`. If renaming is not possible, pass the object in the `custom_objects` parameter of the load function.\n",
      "WARNING:absl:<keras.layers.recurrent.LSTMCell object at 0x7feeb9804e10> has the same name 'LSTMCell' as a built-in Keras object. Consider renaming <class 'keras.layers.recurrent.LSTMCell'> to avoid naming conflicts when loading with `tf.keras.models.load_model`. If renaming is not possible, pass the object in the `custom_objects` parameter of the load function.\n",
      "WARNING:absl:<keras.layers.recurrent.LSTMCell object at 0x7feeb8fd45d0> has the same name 'LSTMCell' as a built-in Keras object. Consider renaming <class 'keras.layers.recurrent.LSTMCell'> to avoid naming conflicts when loading with `tf.keras.models.load_model`. If renaming is not possible, pass the object in the `custom_objects` parameter of the load function.\n",
      "WARNING:absl:<keras.layers.recurrent.LSTMCell object at 0x7feebe45b990> has the same name 'LSTMCell' as a built-in Keras object. Consider renaming <class 'keras.layers.recurrent.LSTMCell'> to avoid naming conflicts when loading with `tf.keras.models.load_model`. If renaming is not possible, pass the object in the `custom_objects` parameter of the load function.\n",
      "WARNING:absl:<keras.layers.recurrent.LSTMCell object at 0x7feebe34ae10> has the same name 'LSTMCell' as a built-in Keras object. Consider renaming <class 'keras.layers.recurrent.LSTMCell'> to avoid naming conflicts when loading with `tf.keras.models.load_model`. If renaming is not possible, pass the object in the `custom_objects` parameter of the load function.\n",
      "WARNING:absl:<keras.layers.recurrent.LSTMCell object at 0x7feebe354ad0> has the same name 'LSTMCell' as a built-in Keras object. Consider renaming <class 'keras.layers.recurrent.LSTMCell'> to avoid naming conflicts when loading with `tf.keras.models.load_model`. If renaming is not possible, pass the object in the `custom_objects` parameter of the load function.\n"
     ]
    }
   ],
   "source": [
    "pickle.dump(model2, open(\"models/bilstm_model.pkl\", 'wb'))"
   ]
  },
  {
   "cell_type": "code",
   "execution_count": null,
   "id": "226e6b90",
   "metadata": {
    "id": "226e6b90"
   },
   "outputs": [],
   "source": []
  },
  {
   "cell_type": "code",
   "execution_count": null,
   "id": "922d6d4e",
   "metadata": {
    "id": "922d6d4e"
   },
   "outputs": [],
   "source": []
  },
  {
   "cell_type": "code",
   "execution_count": null,
   "id": "59a17731",
   "metadata": {
    "id": "59a17731"
   },
   "outputs": [],
   "source": []
  }
 ],
 "metadata": {
  "accelerator": "GPU",
  "colab": {
   "provenance": []
  },
  "kernelspec": {
   "display_name": "Python 3 (ipykernel)",
   "language": "python",
   "name": "python3"
  },
  "language_info": {
   "codemirror_mode": {
    "name": "ipython",
    "version": 3
   },
   "file_extension": ".py",
   "mimetype": "text/x-python",
   "name": "python",
   "nbconvert_exporter": "python",
   "pygments_lexer": "ipython3",
   "version": "3.10.7"
  }
 },
 "nbformat": 4,
 "nbformat_minor": 5
}
